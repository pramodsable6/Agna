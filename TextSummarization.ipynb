{
  "cells": [
    {
      "cell_type": "code",
      "execution_count": null,
      "metadata": {
        "colab": {
          "base_uri": "https://localhost:8080/"
        },
        "id": "qfMKUN-0kfFA",
        "outputId": "99755f94-db7c-466d-8460-d712653c92a4"
      },
      "outputs": [],
      "source": [
        "!pip install transformers"
      ]
    },
    {
      "cell_type": "code",
      "execution_count": null,
      "metadata": {
        "id": "-90oigaTpwGV"
      },
      "outputs": [],
      "source": [
        "!huggingface-cli login"
      ]
    },
    {
      "cell_type": "code",
      "execution_count": 30,
      "metadata": {
        "colab": {
          "base_uri": "https://localhost:8080/"
        },
        "id": "MDIMEJdmo3j6",
        "outputId": "dfc23cc5-5438-4cc2-f9e7-1a3afe77999a"
      },
      "outputs": [
        {
          "name": "stdout",
          "output_type": "stream",
          "text": [
            "Amazon DynamoDB is a fully managed NoSQL database service offered by Amazon Web Services (AWS) It provides fast and predictable performance with seamless scalability. DynamoDB supports both document and key-value data models.\n"
          ]
        }
      ],
      "source": [
        "from transformers import pipeline\n",
        "\n",
        "summarizer = pipeline(\"summarization\", model=\"facebook/bart-large-cnn\")\n",
        "\n",
        "ARTICLE = \"\"\"\n",
        "Amazon DynamoDB is a **fully managed NoSQL database service** offered by Amazon Web Services (AWS). It provides fast and predictable performance with seamless scalability,\n",
        "allowing you to offload the administrative burdens of operating and scaling a distributed database.\n",
        "DynamoDB supports both document and key-value data models, and lets you create database tables that can store and retrieve any amount of data and serve any level of request traffic.\n",
        "You can scale up or scale down your tables' throughput capacity without downtime or performance degradation.\n",
        "DynamoDB also offers encryption at rest, which eliminates the operational burden and complexity involved in protecting sensitive data.\n",
        "\n",
        "DynamoDB automatically spreads the data and traffic for your tables over a sufficient number of servers to handle your throughput and storage requirements, while maintaining consistent and fast performance.\n",
        "All of your data is stored on solid-state disks (SSDs) and is automatically replicated across multiple Availability Zones in an AWS Region, providing built-in high availability and data durability.\n",
        "You can use global tables to keep DynamoDB tables in sync across AWS Regions.\n",
        "You can also use the AWS Management Console to monitor resource utilization and performance metrics.\n",
        "DynamoDB provides on-demand backup capability, allowing you to create full backups of your tables for long-term retention and archival for regulatory compliance needs.\n",
        "You can create on-demand backups and enable point-in-time recovery for your Amazon DynamoDB tables. Point-in-time recovery helps protect your tables from accidental write or delete operations.\n",
        "With point-in-time recovery, you can restore a table to any point in time during the last 35 days.\n",
        "DynamoDB allows you to delete expired items from tables automatically to help you reduce storage usage and the cost of storing data that is no longer relevant.\n",
        "For more information, see Expiring items by using DynamoDB Time to Live (TTL).\n",
        "\"\"\"\n",
        "\n",
        "print(summarizer(ARTICLE, max_length=130, min_length=30, do_sample=False)[0]['summary_text'])"
      ]
    },
    {
      "cell_type": "code",
      "execution_count": 34,
      "metadata": {
        "colab": {
          "base_uri": "https://localhost:8080/"
        },
        "id": "eXbjMaLYs3Rs",
        "outputId": "1f9e1220-2c44-4ce7-d1df-34bf409dcefd"
      },
      "outputs": [
        {
          "name": "stderr",
          "output_type": "stream",
          "text": [
            "Some weights of PegasusForConditionalGeneration were not initialized from the model checkpoint at google/pegasus-large and are newly initialized: ['model.decoder.embed_positions.weight', 'model.encoder.embed_positions.weight']\n",
            "You should probably TRAIN this model on a down-stream task to be able to use it for predictions and inference.\n"
          ]
        },
        {
          "name": "stdout",
          "output_type": "stream",
          "text": [
            "DynamoDB supports both document and key-value data models, and lets you create database tables that can store and retrieve any amount of data and serve any level of request traffic. DynamoDB automatically spreads the data and traffic for your tables over a sufficient number of servers to handle your throughput and storage requirements, while maintaining consistent and fast performance. DynamoDB provides on-demand backup capability, allowing you to create full backups of your tables for long-term retention and archival for regulatory compliance needs. You can create on-demand backups and enable point-in-time recovery for your Amazon DynamoDB tables. With point-in-time recovery, you can restore a table to any point in time during the last 35 days. DynamoDB allows you to delete expired items from tables automatically to help you reduce storage usage and the cost of storing data that is no longer relevant.\n"
          ]
        }
      ],
      "source": [
        "from transformers import pipeline\n",
        "\n",
        "summarizer = pipeline(\"summarization\", model=\"google/pegasus-large\")\n",
        "\n",
        "ARTICLE = \"\"\"\n",
        "Amazon DynamoDB is a **fully managed NoSQL database service** offered by Amazon Web Services (AWS). It provides fast and predictable performance with seamless scalability,\n",
        "allowing you to offload the administrative burdens of operating and scaling a distributed database.\n",
        "DynamoDB supports both document and key-value data models, and lets you create database tables that can store and retrieve any amount of data and serve any level of request traffic.\n",
        "You can scale up or scale down your tables' throughput capacity without downtime or performance degradation.\n",
        "DynamoDB also offers encryption at rest, which eliminates the operational burden and complexity involved in protecting sensitive data.\n",
        "\n",
        "DynamoDB automatically spreads the data and traffic for your tables over a sufficient number of servers to handle your throughput and storage requirements, while maintaining consistent and fast performance.\n",
        "All of your data is stored on solid-state disks (SSDs) and is automatically replicated across multiple Availability Zones in an AWS Region, providing built-in high availability and data durability.\n",
        "You can use global tables to keep DynamoDB tables in sync across AWS Regions.\n",
        "You can also use the AWS Management Console to monitor resource utilization and performance metrics.\n",
        "DynamoDB provides on-demand backup capability, allowing you to create full backups of your tables for long-term retention and archival for regulatory compliance needs.\n",
        "You can create on-demand backups and enable point-in-time recovery for your Amazon DynamoDB tables. Point-in-time recovery helps protect your tables from accidental write or delete operations.\n",
        "With point-in-time recovery, you can restore a table to any point in time during the last 35 days.\n",
        "DynamoDB allows you to delete expired items from tables automatically to help you reduce storage usage and the cost of storing data that is no longer relevant.\n",
        "For more information, see Expiring items by using DynamoDB Time to Live (TTL).\n",
        "\"\"\"\n",
        "print(summarizer(ARTICLE, max_length=300, min_length=150, do_sample=False)[0]['summary_text'])"
      ]
    },
    {
      "cell_type": "code",
      "execution_count": null,
      "metadata": {
        "id": "GPslOxWJ5O7h"
      },
      "outputs": [],
      "source": []
    }
  ],
  "metadata": {
    "colab": {
      "provenance": []
    },
    "kernelspec": {
      "display_name": "Python 3",
      "name": "python3"
    },
    "language_info": {
      "name": "python"
    }
  },
  "nbformat": 4,
  "nbformat_minor": 0
}
