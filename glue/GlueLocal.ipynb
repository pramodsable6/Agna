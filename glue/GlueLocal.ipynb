{
 "cells": [
  {
   "cell_type": "code",
   "execution_count": 1,
   "id": "1b660460-e19d-48a1-ae16-eb9e2220ca1c",
   "metadata": {},
   "outputs": [
    {
     "name": "stdout",
     "output_type": "stream",
     "text": [
      "Starting Spark application\n"
     ]
    },
    {
     "data": {
      "text/html": [
       "<table>\n",
       "<tr><th>ID</th><th>YARN Application ID</th><th>Kind</th><th>State</th><th>Spark UI</th><th>Driver log</th><th>User</th><th>Current session?</th></tr><tr><td>0</td><td>None</td><td>pyspark</td><td>idle</td><td></td><td></td><td>None</td><td>✔</td></tr></table>"
      ],
      "text/plain": [
       "<IPython.core.display.HTML object>"
      ]
     },
     "metadata": {},
     "output_type": "display_data"
    },
    {
     "data": {
      "application/vnd.jupyter.widget-view+json": {
       "model_id": "",
       "version_major": 2,
       "version_minor": 0
      },
      "text/plain": [
       "FloatProgress(value=0.0, bar_style='info', description='Progress:', layout=Layout(height='25px', width='50%'),…"
      ]
     },
     "metadata": {},
     "output_type": "display_data"
    },
    {
     "name": "stdout",
     "output_type": "stream",
     "text": [
      "SparkSession available as 'spark'.\n"
     ]
    },
    {
     "data": {
      "application/vnd.jupyter.widget-view+json": {
       "model_id": "",
       "version_major": 2,
       "version_minor": 0
      },
      "text/plain": [
       "FloatProgress(value=0.0, bar_style='info', description='Progress:', layout=Layout(height='25px', width='50%'),…"
      ]
     },
     "metadata": {},
     "output_type": "display_data"
    },
    {
     "name": "stdout",
     "output_type": "stream",
     "text": [
      "+---------+\n",
      "|namespace|\n",
      "+---------+\n",
      "|     abcd|\n",
      "|  default|\n",
      "+---------+"
     ]
    }
   ],
   "source": [
    "spark.sql('SHOW DATABASES').show()"
   ]
  },
  {
   "cell_type": "code",
   "execution_count": 1,
   "id": "afecd945-c8cb-42d9-a77b-cf8553d214a0",
   "metadata": {},
   "outputs": [
    {
     "data": {
      "text/html": [
       "Current session configs: <tt>{'job_bookmark_option': 'job-bookmark-enable', 'kind': 'pyspark'}</tt><br>"
      ],
      "text/plain": [
       "<IPython.core.display.HTML object>"
      ]
     },
     "metadata": {},
     "output_type": "display_data"
    },
    {
     "data": {
      "text/html": [
       "No active sessions."
      ],
      "text/plain": [
       "<IPython.core.display.HTML object>"
      ]
     },
     "metadata": {},
     "output_type": "display_data"
    }
   ],
   "source": [
    "%%configure\n",
    "{\n",
    "  \"job_bookmark_option\": \"job-bookmark-enable\"\n",
    "}"
   ]
  },
  {
   "cell_type": "code",
   "execution_count": 6,
   "id": "f1699516-4908-41a1-a97b-84e90131e29e",
   "metadata": {},
   "outputs": [
    {
     "data": {
      "application/vnd.jupyter.widget-view+json": {
       "model_id": "",
       "version_major": 2,
       "version_minor": 0
      },
      "text/plain": [
       "FloatProgress(value=0.0, bar_style='info', description='Progress:', layout=Layout(height='25px', width='50%'),…"
      ]
     },
     "metadata": {},
     "output_type": "display_data"
    },
    {
     "name": "stdout",
     "output_type": "stream",
     "text": [
      "/home/glue_user/spark/python/pyspark/sql/context.py:112: FutureWarning: Deprecated in 3.0.0. Use SparkSession.builder.getOrCreate() instead.\n",
      "  warnings.warn("
     ]
    }
   ],
   "source": [
    "import sys\n",
    "from awsglue.transforms import *\n",
    "from awsglue.utils import getResolvedOptions\n",
    "from pyspark.context import SparkContext\n",
    "from awsglue.context import GlueContext\n",
    "from awsglue.job import Job\n",
    "from awsglue.dynamicframe import DynamicFrame\n",
    "from pyspark.sql import functions as SqlFuncs\n",
    "\n",
    "sc = SparkContext()\n",
    "glueContext = GlueContext(sc)\n",
    "spark = glueContext.spark_session\n",
    "job = Job(glueContext)"
   ]
  },
  {
   "cell_type": "markdown",
   "id": "dee44862-3a0a-4fb5-978d-0f84569481a4",
   "metadata": {},
   "source": [
    "### Using S3 storage"
   ]
  },
  {
   "cell_type": "code",
   "execution_count": null,
   "id": "6b552c8f-b535-4c5d-9649-167e18f8ca56",
   "metadata": {},
   "outputs": [],
   "source": [
    "S3bucket_node1 = glueContext.create_dynamic_frame.from_options(\n",
    "    format_options={\"quoteChar\": '\"', \"withHeader\": True, \"separator\": \",\"},\n",
    "    connection_type=\"s3\",\n",
    "    format=\"csv\",\n",
    "    connection_options={\"paths\": [\"s3://glue-test-pramod/input/\"], \"recurse\": True},\n",
    "    transformation_ctx=\"S3bucket_node1\",\n",
    ")\n",
    "\n",
    "# Script generated for node S3 bucket\n",
    "S3bucket_node2 = glueContext.write_dynamic_frame.from_options(\n",
    "    frame=S3bucket_node1,\n",
    "    connection_type=\"s3\",\n",
    "    format=\"parquet\",\n",
    "    connection_options={\"path\": \"s3://glue-test-pramod/output/\", \"partitionKeys\": []},\n",
    "    format_options={\"compression\": \"snappy\"},\n",
    "    transformation_ctx=\"S3bucket_node2\",\n",
    ")"
   ]
  },
  {
   "cell_type": "code",
   "execution_count": 5,
   "id": "cf020ad1-5942-43d9-881e-fe28d0d81c26",
   "metadata": {},
   "outputs": [
    {
     "data": {
      "application/vnd.jupyter.widget-view+json": {
       "model_id": "",
       "version_major": 2,
       "version_minor": 0
      },
      "text/plain": [
       "FloatProgress(value=0.0, bar_style='info', description='Progress:', layout=Layout(height='25px', width='50%'),…"
      ]
     },
     "metadata": {},
     "output_type": "display_data"
    }
   ],
   "source": [
    "spark.stop()"
   ]
  },
  {
   "cell_type": "markdown",
   "id": "fab710bf-87c6-4800-9359-d827bc72beb0",
   "metadata": {},
   "source": [
    "### Using Local Storage"
   ]
  },
  {
   "cell_type": "code",
   "execution_count": 19,
   "id": "defc2dc7-1dd7-4bbc-8da8-2ad5f2e3e1ed",
   "metadata": {},
   "outputs": [
    {
     "data": {
      "application/vnd.jupyter.widget-view+json": {
       "model_id": "",
       "version_major": 2,
       "version_minor": 0
      },
      "text/plain": [
       "FloatProgress(value=0.0, bar_style='info', description='Progress:', layout=Layout(height='25px', width='50%'),…"
      ]
     },
     "metadata": {},
     "output_type": "display_data"
    }
   ],
   "source": [
    "df1 = spark.read.csv('/home/glue_user/workspace/jupyter_workspace/Input', header=True)"
   ]
  },
  {
   "cell_type": "code",
   "execution_count": 21,
   "id": "4f3934ee-a6b5-46a4-a107-54821bd4075a",
   "metadata": {},
   "outputs": [
    {
     "data": {
      "application/vnd.jupyter.widget-view+json": {
       "model_id": "",
       "version_major": 2,
       "version_minor": 0
      },
      "text/plain": [
       "FloatProgress(value=0.0, bar_style='info', description='Progress:', layout=Layout(height='25px', width='50%'),…"
      ]
     },
     "metadata": {},
     "output_type": "display_data"
    },
    {
     "name": "stdout",
     "output_type": "stream",
     "text": [
      "+---------+-----------------+--------------------+------+--------------------+--------------------+\n",
      "|     name|         location|                Date|Rating|              Review|         Image_Links|\n",
      "+---------+-----------------+--------------------+------+--------------------+--------------------+\n",
      "|    Helen|Wichita Falls, TX|Reviewed Sept. 13...|     5|Amber and LaDonna...|       ['No Images']|\n",
      "| Courtney|       Apopka, FL|Reviewed July 16,...|     5|** at the Starbuc...|       ['No Images']|\n",
      "| Daynelle|Cranberry Twp, PA|Reviewed July 5, ...|     5|I just wanted to ...|['https://media.c...|\n",
      "|   Taylor|      Seattle, WA|Reviewed May 26, ...|     5|Me and my friend ...|       ['No Images']|\n",
      "|  Tenessa|      Gresham, OR|Reviewed Jan. 22,...|     5|I’m on this kick ...|['https://media.c...|\n",
      "|   Alyssa|    Sunnyvale, TX|Reviewed Sept. 14...|     1|We had to correct...|       ['No Images']|\n",
      "|      ken|  Spring Hill, FL|Reviewed Sept. 8,...|     1|I have tried Star...|       ['No Images']|\n",
      "|    Nikki|    Asheville, NC|Reviewed Aug. 25,...|     1|Starbucks near me...|       ['No Images']|\n",
      "|     Alex| Reisterstown, MD|Reviewed Aug. 5, ...|     1|I ordered online ...|       ['No Images']|\n",
      "|    Sunny| Zionville, Other|Reviewed Aug. 4, ...|     1|Staff at the Smyt...|       ['No Images']|\n",
      "|Breggetta|   Long Beach, CA|Reviewed July 27,...|     1|I filed a BBB com...|['https://media.c...|\n",
      "|  Shannon|  Westerville, OH|Reviewed July 21,...|     2|Every time I try ...|       ['No Images']|\n",
      "|     Lucy|      Fontana, CA|Reviewed July 21,...|     1|Insulted by custo...|       ['No Images']|\n",
      "|  RAYMOND|      Kapolei, HI|Reviewed July 16,...|     1|\"I would give Sta...| 7/15. I told her...|\n",
      "|   Thomas|      Absecon, NJ|Reviewed July 6, ...|     1|On June 21, 2023 ...|       ['No Images']|\n",
      "|  Felicia|      Atlanta, GA|Reviewed July 6, ...|     1|My mother sent me...|       ['No Images']|\n",
      "|     Sean|  Hamilton, Other|Reviewed June 28,...|     1|Was handed a coff...|       ['No Images']|\n",
      "|  Charles|   Washington, DC|Reviewed June 11,...|     1|I’m at 20th and L...|       ['No Images']|\n",
      "|     Miya|     Fairburn, GA|Reviewed June 3, ...|     1|I have been purch...|['https://media.c...|\n",
      "|      Ann| Coquitlam, Other|Reviewed May 30, ...|     1|Starbucks Como La...|       ['No Images']|\n",
      "+---------+-----------------+--------------------+------+--------------------+--------------------+\n",
      "only showing top 20 rows"
     ]
    }
   ],
   "source": [
    "df1.show()"
   ]
  },
  {
   "cell_type": "code",
   "execution_count": null,
   "id": "302ca0e7-6fc8-4828-9564-36142822c9b9",
   "metadata": {},
   "outputs": [],
   "source": []
  }
 ],
 "metadata": {
  "kernelspec": {
   "display_name": "pramod_dev",
   "language": "python",
   "name": "python3"
  },
  "language_info": {
   "codemirror_mode": {
    "name": "python",
    "version": 3
   },
   "file_extension": ".py",
   "mimetype": "text/x-python",
   "name": "python",
   "pygments_lexer": "python3",
   "version": "3.10.12"
  }
 },
 "nbformat": 4,
 "nbformat_minor": 5
}
